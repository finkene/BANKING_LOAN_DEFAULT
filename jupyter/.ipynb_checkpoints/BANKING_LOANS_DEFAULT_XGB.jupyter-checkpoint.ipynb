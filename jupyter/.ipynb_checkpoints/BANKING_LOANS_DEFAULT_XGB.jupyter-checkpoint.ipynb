{
 "cells": [
  {
   "cell_type": "markdown",
   "metadata": {
    "deletable": true,
    "editable": true
   },
   "source": [
    "# <center><font color=green>Predict Mortgage Loan Defaults using XGBoost</font>"
   ]
  },
  {
   "cell_type": "markdown",
   "metadata": {
    "deletable": true,
    "editable": true
   },
   "source": [
    "## <font color=blue>This notebook uses several data science tasks implemented in python code to ingest, cleanse, and transform customer financial data and demographics to predict whether customers will default on their mortgage loan.  The model is evaluated for generalization, deployed to production.  The deployment is tested with sample data to generate a prediction using the REST API created by the deployment"
   ]
  },
  {
   "cell_type": "markdown",
   "metadata": {
    "deletable": true,
    "editable": true
   },
   "source": [
    "## Load data from Db2 Warehouse"
   ]
  },
  {
   "cell_type": "code",
   "execution_count": 8,
   "metadata": {
    "collapsed": false
   },
   "outputs": [
    {
     "data": {
      "text/html": [
       "<div>\n",
       "<style scoped>\n",
       "    .dataframe tbody tr th:only-of-type {\n",
       "        vertical-align: middle;\n",
       "    }\n",
       "\n",
       "    .dataframe tbody tr th {\n",
       "        vertical-align: top;\n",
       "    }\n",
       "\n",
       "    .dataframe thead th {\n",
       "        text-align: right;\n",
       "    }\n",
       "</style>\n",
       "<table border=\"1\" class=\"dataframe\">\n",
       "  <thead>\n",
       "    <tr style=\"text-align: right;\">\n",
       "      <th></th>\n",
       "      <th>SATISFACTION</th>\n",
       "      <th>CHURN</th>\n",
       "      <th>AVG_CASH_BAL</th>\n",
       "      <th>AGE</th>\n",
       "      <th>AGE_RNG</th>\n",
       "      <th>GENDER</th>\n",
       "      <th>NUM_PRODUCTS</th>\n",
       "      <th>CUST_ACQ_YR</th>\n",
       "      <th>NUM_UNIQ_PRODUCTS</th>\n",
       "      <th>EQUITIES_BAL</th>\n",
       "      <th>...</th>\n",
       "      <th>CUST_TYPE</th>\n",
       "      <th>HOME_BRANCH_CTY</th>\n",
       "      <th>HOME_BRANCH_ST</th>\n",
       "      <th>SALESPERSON_ID</th>\n",
       "      <th>NUM_LATE_PYMNTS</th>\n",
       "      <th>NUM_CARD_APPLS</th>\n",
       "      <th>BANKRUPTCY_LAST_7YRS</th>\n",
       "      <th>AVG_MORTGAGE_PYMNT</th>\n",
       "      <th>CREDIT_SCORE</th>\n",
       "      <th>DEFAULT</th>\n",
       "    </tr>\n",
       "  </thead>\n",
       "  <tbody>\n",
       "    <tr>\n",
       "      <th>0</th>\n",
       "      <td>5.0</td>\n",
       "      <td>1</td>\n",
       "      <td>10K</td>\n",
       "      <td>63</td>\n",
       "      <td>60-69</td>\n",
       "      <td>Male</td>\n",
       "      <td>1</td>\n",
       "      <td>2008</td>\n",
       "      <td>10</td>\n",
       "      <td>1000</td>\n",
       "      <td>...</td>\n",
       "      <td>Personal</td>\n",
       "      <td>Houston</td>\n",
       "      <td>TX</td>\n",
       "      <td>ID16</td>\n",
       "      <td>52</td>\n",
       "      <td>51</td>\n",
       "      <td>No</td>\n",
       "      <td>111.0</td>\n",
       "      <td>689</td>\n",
       "      <td>yes</td>\n",
       "    </tr>\n",
       "    <tr>\n",
       "      <th>1</th>\n",
       "      <td>4.0</td>\n",
       "      <td>1</td>\n",
       "      <td>1K</td>\n",
       "      <td>38</td>\n",
       "      <td>30-39</td>\n",
       "      <td>Male</td>\n",
       "      <td>1</td>\n",
       "      <td>2011</td>\n",
       "      <td>13</td>\n",
       "      <td>5000</td>\n",
       "      <td>...</td>\n",
       "      <td>Personal</td>\n",
       "      <td>Dallas</td>\n",
       "      <td>TX</td>\n",
       "      <td>ID16</td>\n",
       "      <td>0</td>\n",
       "      <td>0</td>\n",
       "      <td>No</td>\n",
       "      <td>109.0</td>\n",
       "      <td>721</td>\n",
       "      <td>no</td>\n",
       "    </tr>\n",
       "    <tr>\n",
       "      <th>2</th>\n",
       "      <td>3.0</td>\n",
       "      <td>1</td>\n",
       "      <td>1K</td>\n",
       "      <td>47</td>\n",
       "      <td>40-49</td>\n",
       "      <td>Female</td>\n",
       "      <td>1</td>\n",
       "      <td>2006</td>\n",
       "      <td>4</td>\n",
       "      <td>9000</td>\n",
       "      <td>...</td>\n",
       "      <td>Personal</td>\n",
       "      <td>Dallas</td>\n",
       "      <td>TX</td>\n",
       "      <td>ID16</td>\n",
       "      <td>177</td>\n",
       "      <td>167</td>\n",
       "      <td>No</td>\n",
       "      <td>117.0</td>\n",
       "      <td>721</td>\n",
       "      <td>yes</td>\n",
       "    </tr>\n",
       "    <tr>\n",
       "      <th>3</th>\n",
       "      <td>4.0</td>\n",
       "      <td>0</td>\n",
       "      <td>25K</td>\n",
       "      <td>33</td>\n",
       "      <td>30-39</td>\n",
       "      <td>Female</td>\n",
       "      <td>1</td>\n",
       "      <td>2005</td>\n",
       "      <td>7</td>\n",
       "      <td>9000</td>\n",
       "      <td>...</td>\n",
       "      <td>Personal</td>\n",
       "      <td>Houston</td>\n",
       "      <td>TX</td>\n",
       "      <td>ID9</td>\n",
       "      <td>0</td>\n",
       "      <td>0</td>\n",
       "      <td>No</td>\n",
       "      <td>117.0</td>\n",
       "      <td>689</td>\n",
       "      <td>no</td>\n",
       "    </tr>\n",
       "    <tr>\n",
       "      <th>4</th>\n",
       "      <td>5.0</td>\n",
       "      <td>0</td>\n",
       "      <td>10K</td>\n",
       "      <td>53</td>\n",
       "      <td>50-59</td>\n",
       "      <td>Female</td>\n",
       "      <td>1</td>\n",
       "      <td>2007</td>\n",
       "      <td>16</td>\n",
       "      <td>13000</td>\n",
       "      <td>...</td>\n",
       "      <td>Personal</td>\n",
       "      <td>Houston</td>\n",
       "      <td>TX</td>\n",
       "      <td>ID10</td>\n",
       "      <td>0</td>\n",
       "      <td>0</td>\n",
       "      <td>No</td>\n",
       "      <td>108.0</td>\n",
       "      <td>689</td>\n",
       "      <td>no</td>\n",
       "    </tr>\n",
       "  </tbody>\n",
       "</table>\n",
       "<p>5 rows × 25 columns</p>\n",
       "</div>"
      ],
      "text/plain": [
       "   SATISFACTION  CHURN AVG_CASH_BAL  AGE AGE_RNG  GENDER  NUM_PRODUCTS  \\\n",
       "0           5.0      1          10K   63   60-69    Male             1   \n",
       "1           4.0      1           1K   38   30-39    Male             1   \n",
       "2           3.0      1           1K   47   40-49  Female             1   \n",
       "3           4.0      0          25K   33   30-39  Female             1   \n",
       "4           5.0      0          10K   53   50-59  Female             1   \n",
       "\n",
       "   CUST_ACQ_YR  NUM_UNIQ_PRODUCTS  EQUITIES_BAL   ...    CUST_TYPE  \\\n",
       "0         2008                 10          1000   ...     Personal   \n",
       "1         2011                 13          5000   ...     Personal   \n",
       "2         2006                  4          9000   ...     Personal   \n",
       "3         2005                  7          9000   ...     Personal   \n",
       "4         2007                 16         13000   ...     Personal   \n",
       "\n",
       "   HOME_BRANCH_CTY  HOME_BRANCH_ST  SALESPERSON_ID  NUM_LATE_PYMNTS  \\\n",
       "0          Houston              TX            ID16               52   \n",
       "1           Dallas              TX            ID16                0   \n",
       "2           Dallas              TX            ID16              177   \n",
       "3          Houston              TX             ID9                0   \n",
       "4          Houston              TX            ID10                0   \n",
       "\n",
       "  NUM_CARD_APPLS BANKRUPTCY_LAST_7YRS AVG_MORTGAGE_PYMNT CREDIT_SCORE  DEFAULT  \n",
       "0             51                   No              111.0          689      yes  \n",
       "1              0                   No              109.0          721       no  \n",
       "2            167                   No              117.0          721      yes  \n",
       "3              0                   No              117.0          689       no  \n",
       "4              0                   No              108.0          689       no  \n",
       "\n",
       "[5 rows x 25 columns]"
      ]
     },
     "execution_count": 8,
     "metadata": {},
     "output_type": "execute_result"
    }
   ],
   "source": [
    "\n",
    "\n",
    "import dsx_core_utils, requests, jaydebeapi, os, io, sys\n",
    "from pyspark.sql import SparkSession\n",
    "import pandas as pd\n",
    "df4 = None\n",
    "dataSet = dsx_core_utils.get_remote_data_set_info('BANKING_LOANS_DEFAULT')\n",
    "dataSource = dsx_core_utils.get_data_source_info(dataSet['datasource'])\n",
    "if (sys.version_info >= (3, 0)):\n",
    "\tconn = jaydebeapi.connect(dataSource['driver_class'], dataSource['URL'], [dataSource['user'], dataSource['password']])\n",
    "else:\n",
    "\tconn = jaydebeapi.connect(dataSource['driver_class'], [dataSource['URL'], dataSource['user'], dataSource['password']])\n",
    "query = 'select * from ' + (dataSet['schema'] + '.' if (len(dataSet['schema'].strip()) != 0) else '') + dataSet['table']\n",
    "df4 = pd.read_sql(query, con=conn)\n",
    "df4.head()\n",
    "\n",
    "\n"
   ]
  },
  {
   "cell_type": "code",
   "execution_count": 3,
   "metadata": {
    "collapsed": false,
    "deletable": true,
    "editable": true
   },
   "outputs": [
    {
     "name": "stdout",
     "output_type": "stream",
     "text": [
      "<class 'pandas.core.frame.DataFrame'>\n",
      "RangeIndex: 65535 entries, 0 to 65534\n",
      "Data columns (total 25 columns):\n",
      "SATISFACTION            65535 non-null float64\n",
      "CHURN                   65535 non-null int64\n",
      "AVG_CASH_BAL            65535 non-null object\n",
      "AGE                     65535 non-null int64\n",
      "AGE_RNG                 65535 non-null object\n",
      "GENDER                  65535 non-null object\n",
      "NUM_PRODUCTS            65535 non-null int64\n",
      "CUST_ACQ_YR             65535 non-null int64\n",
      "NUM_UNIQ_PRODUCTS       65535 non-null int64\n",
      "EQUITIES_BAL            65535 non-null int64\n",
      "INIT_MORTG_AMT          65535 non-null object\n",
      "NUM_ADDR_CHNGS          65535 non-null int64\n",
      "HOUSEHOLD_ID            65535 non-null int64\n",
      "CLNTS_IN_HSHLD          65535 non-null int64\n",
      "AVG_CARD_BAL            65535 non-null int64\n",
      "CUST_TYPE               65535 non-null object\n",
      "HOME_BRANCH_CTY         65535 non-null object\n",
      "HOME_BRANCH_ST          65535 non-null object\n",
      "SALESPERSON_ID          65535 non-null object\n",
      "NUM_LATE_PYMNTS         65535 non-null int64\n",
      "NUM_CARD_APPLS          65535 non-null int64\n",
      "BANKRUPTCY_LAST_7YRS    65535 non-null object\n",
      "AVG_MORTGAGE_PYMNT      63748 non-null float64\n",
      "CREDIT_SCORE            65535 non-null int64\n",
      "DEFAULT                 65535 non-null object\n",
      "dtypes: float64(2), int64(13), object(10)\n",
      "memory usage: 12.5+ MB\n"
     ]
    }
   ],
   "source": [
    "df1.info()"
   ]
  },
  {
   "cell_type": "code",
   "execution_count": 4,
   "metadata": {
    "collapsed": false,
    "deletable": true,
    "editable": true
   },
   "outputs": [
    {
     "data": {
      "text/html": [
       "<div>\n",
       "<style scoped>\n",
       "    .dataframe tbody tr th:only-of-type {\n",
       "        vertical-align: middle;\n",
       "    }\n",
       "\n",
       "    .dataframe tbody tr th {\n",
       "        vertical-align: top;\n",
       "    }\n",
       "\n",
       "    .dataframe thead th {\n",
       "        text-align: right;\n",
       "    }\n",
       "</style>\n",
       "<table border=\"1\" class=\"dataframe\">\n",
       "  <thead>\n",
       "    <tr style=\"text-align: right;\">\n",
       "      <th></th>\n",
       "      <th>SATISFACTION</th>\n",
       "      <th>CHURN</th>\n",
       "      <th>AVG_CASH_BAL</th>\n",
       "      <th>AGE</th>\n",
       "      <th>AGE_RNG</th>\n",
       "      <th>GENDER</th>\n",
       "      <th>NUM_PRODUCTS</th>\n",
       "      <th>CUST_ACQ_YR</th>\n",
       "      <th>NUM_UNIQ_PRODUCTS</th>\n",
       "      <th>EQUITIES_BAL</th>\n",
       "      <th>...</th>\n",
       "      <th>CUST_TYPE</th>\n",
       "      <th>HOME_BRANCH_CTY</th>\n",
       "      <th>HOME_BRANCH_ST</th>\n",
       "      <th>SALESPERSON_ID</th>\n",
       "      <th>NUM_LATE_PYMNTS</th>\n",
       "      <th>NUM_CARD_APPLS</th>\n",
       "      <th>BANKRUPTCY_LAST_7YRS</th>\n",
       "      <th>AVG_MORTGAGE_PYMNT</th>\n",
       "      <th>CREDIT_SCORE</th>\n",
       "      <th>DEFAULT</th>\n",
       "    </tr>\n",
       "  </thead>\n",
       "  <tbody>\n",
       "    <tr>\n",
       "      <th>count</th>\n",
       "      <td>65535.000000</td>\n",
       "      <td>65535.000000</td>\n",
       "      <td>65535</td>\n",
       "      <td>65535.000000</td>\n",
       "      <td>65535</td>\n",
       "      <td>65535</td>\n",
       "      <td>65535.000000</td>\n",
       "      <td>65535.000000</td>\n",
       "      <td>65535.000000</td>\n",
       "      <td>65535.000000</td>\n",
       "      <td>...</td>\n",
       "      <td>65535</td>\n",
       "      <td>65535</td>\n",
       "      <td>65535</td>\n",
       "      <td>65535</td>\n",
       "      <td>65535.000000</td>\n",
       "      <td>65535.000000</td>\n",
       "      <td>65535</td>\n",
       "      <td>63748.000000</td>\n",
       "      <td>65535.000000</td>\n",
       "      <td>65535</td>\n",
       "    </tr>\n",
       "    <tr>\n",
       "      <th>unique</th>\n",
       "      <td>NaN</td>\n",
       "      <td>NaN</td>\n",
       "      <td>4</td>\n",
       "      <td>NaN</td>\n",
       "      <td>8</td>\n",
       "      <td>2</td>\n",
       "      <td>NaN</td>\n",
       "      <td>NaN</td>\n",
       "      <td>NaN</td>\n",
       "      <td>NaN</td>\n",
       "      <td>...</td>\n",
       "      <td>3</td>\n",
       "      <td>283</td>\n",
       "      <td>53</td>\n",
       "      <td>23</td>\n",
       "      <td>NaN</td>\n",
       "      <td>NaN</td>\n",
       "      <td>2</td>\n",
       "      <td>NaN</td>\n",
       "      <td>NaN</td>\n",
       "      <td>2</td>\n",
       "    </tr>\n",
       "    <tr>\n",
       "      <th>top</th>\n",
       "      <td>NaN</td>\n",
       "      <td>NaN</td>\n",
       "      <td>1K</td>\n",
       "      <td>NaN</td>\n",
       "      <td>40-49</td>\n",
       "      <td>Female</td>\n",
       "      <td>NaN</td>\n",
       "      <td>NaN</td>\n",
       "      <td>NaN</td>\n",
       "      <td>NaN</td>\n",
       "      <td>...</td>\n",
       "      <td>Personal</td>\n",
       "      <td>Chicago</td>\n",
       "      <td>TX</td>\n",
       "      <td>ID6</td>\n",
       "      <td>NaN</td>\n",
       "      <td>NaN</td>\n",
       "      <td>No</td>\n",
       "      <td>NaN</td>\n",
       "      <td>NaN</td>\n",
       "      <td>no</td>\n",
       "    </tr>\n",
       "    <tr>\n",
       "      <th>freq</th>\n",
       "      <td>NaN</td>\n",
       "      <td>NaN</td>\n",
       "      <td>44836</td>\n",
       "      <td>NaN</td>\n",
       "      <td>13817</td>\n",
       "      <td>37005</td>\n",
       "      <td>NaN</td>\n",
       "      <td>NaN</td>\n",
       "      <td>NaN</td>\n",
       "      <td>NaN</td>\n",
       "      <td>...</td>\n",
       "      <td>53247</td>\n",
       "      <td>4566</td>\n",
       "      <td>9147</td>\n",
       "      <td>4777</td>\n",
       "      <td>NaN</td>\n",
       "      <td>NaN</td>\n",
       "      <td>63928</td>\n",
       "      <td>NaN</td>\n",
       "      <td>NaN</td>\n",
       "      <td>43027</td>\n",
       "    </tr>\n",
       "    <tr>\n",
       "      <th>mean</th>\n",
       "      <td>3.377173</td>\n",
       "      <td>0.502953</td>\n",
       "      <td>NaN</td>\n",
       "      <td>46.174273</td>\n",
       "      <td>NaN</td>\n",
       "      <td>NaN</td>\n",
       "      <td>1.277256</td>\n",
       "      <td>2007.215656</td>\n",
       "      <td>20.058122</td>\n",
       "      <td>9333.897917</td>\n",
       "      <td>...</td>\n",
       "      <td>NaN</td>\n",
       "      <td>NaN</td>\n",
       "      <td>NaN</td>\n",
       "      <td>NaN</td>\n",
       "      <td>15.626535</td>\n",
       "      <td>16.537758</td>\n",
       "      <td>NaN</td>\n",
       "      <td>103.973803</td>\n",
       "      <td>727.195544</td>\n",
       "      <td>NaN</td>\n",
       "    </tr>\n",
       "    <tr>\n",
       "      <th>std</th>\n",
       "      <td>0.966522</td>\n",
       "      <td>0.499995</td>\n",
       "      <td>NaN</td>\n",
       "      <td>17.309281</td>\n",
       "      <td>NaN</td>\n",
       "      <td>NaN</td>\n",
       "      <td>0.548670</td>\n",
       "      <td>2.981600</td>\n",
       "      <td>14.413566</td>\n",
       "      <td>8769.488145</td>\n",
       "      <td>...</td>\n",
       "      <td>NaN</td>\n",
       "      <td>NaN</td>\n",
       "      <td>NaN</td>\n",
       "      <td>NaN</td>\n",
       "      <td>39.511740</td>\n",
       "      <td>40.052286</td>\n",
       "      <td>NaN</td>\n",
       "      <td>71.874038</td>\n",
       "      <td>593.558184</td>\n",
       "      <td>NaN</td>\n",
       "    </tr>\n",
       "    <tr>\n",
       "      <th>min</th>\n",
       "      <td>1.000000</td>\n",
       "      <td>0.000000</td>\n",
       "      <td>NaN</td>\n",
       "      <td>15.000000</td>\n",
       "      <td>NaN</td>\n",
       "      <td>NaN</td>\n",
       "      <td>0.000000</td>\n",
       "      <td>2003.000000</td>\n",
       "      <td>0.000000</td>\n",
       "      <td>1000.000000</td>\n",
       "      <td>...</td>\n",
       "      <td>NaN</td>\n",
       "      <td>NaN</td>\n",
       "      <td>NaN</td>\n",
       "      <td>NaN</td>\n",
       "      <td>0.000000</td>\n",
       "      <td>0.000000</td>\n",
       "      <td>NaN</td>\n",
       "      <td>8.000000</td>\n",
       "      <td>31.000000</td>\n",
       "      <td>NaN</td>\n",
       "    </tr>\n",
       "    <tr>\n",
       "      <th>25%</th>\n",
       "      <td>3.000000</td>\n",
       "      <td>0.000000</td>\n",
       "      <td>NaN</td>\n",
       "      <td>33.000000</td>\n",
       "      <td>NaN</td>\n",
       "      <td>NaN</td>\n",
       "      <td>1.000000</td>\n",
       "      <td>2004.000000</td>\n",
       "      <td>9.000000</td>\n",
       "      <td>4000.000000</td>\n",
       "      <td>...</td>\n",
       "      <td>NaN</td>\n",
       "      <td>NaN</td>\n",
       "      <td>NaN</td>\n",
       "      <td>NaN</td>\n",
       "      <td>0.000000</td>\n",
       "      <td>0.000000</td>\n",
       "      <td>NaN</td>\n",
       "      <td>53.000000</td>\n",
       "      <td>305.000000</td>\n",
       "      <td>NaN</td>\n",
       "    </tr>\n",
       "    <tr>\n",
       "      <th>50%</th>\n",
       "      <td>4.000000</td>\n",
       "      <td>1.000000</td>\n",
       "      <td>NaN</td>\n",
       "      <td>45.000000</td>\n",
       "      <td>NaN</td>\n",
       "      <td>NaN</td>\n",
       "      <td>1.000000</td>\n",
       "      <td>2007.000000</td>\n",
       "      <td>17.000000</td>\n",
       "      <td>7000.000000</td>\n",
       "      <td>...</td>\n",
       "      <td>NaN</td>\n",
       "      <td>NaN</td>\n",
       "      <td>NaN</td>\n",
       "      <td>NaN</td>\n",
       "      <td>0.000000</td>\n",
       "      <td>0.000000</td>\n",
       "      <td>NaN</td>\n",
       "      <td>85.000000</td>\n",
       "      <td>571.000000</td>\n",
       "      <td>NaN</td>\n",
       "    </tr>\n",
       "    <tr>\n",
       "      <th>75%</th>\n",
       "      <td>4.000000</td>\n",
       "      <td>1.000000</td>\n",
       "      <td>NaN</td>\n",
       "      <td>58.000000</td>\n",
       "      <td>NaN</td>\n",
       "      <td>NaN</td>\n",
       "      <td>2.000000</td>\n",
       "      <td>2010.000000</td>\n",
       "      <td>29.000000</td>\n",
       "      <td>10000.000000</td>\n",
       "      <td>...</td>\n",
       "      <td>NaN</td>\n",
       "      <td>NaN</td>\n",
       "      <td>NaN</td>\n",
       "      <td>NaN</td>\n",
       "      <td>14.000000</td>\n",
       "      <td>16.000000</td>\n",
       "      <td>NaN</td>\n",
       "      <td>132.000000</td>\n",
       "      <td>954.000000</td>\n",
       "      <td>NaN</td>\n",
       "    </tr>\n",
       "    <tr>\n",
       "      <th>max</th>\n",
       "      <td>5.000000</td>\n",
       "      <td>1.000000</td>\n",
       "      <td>NaN</td>\n",
       "      <td>85.000000</td>\n",
       "      <td>NaN</td>\n",
       "      <td>NaN</td>\n",
       "      <td>4.000000</td>\n",
       "      <td>2012.000000</td>\n",
       "      <td>100.000000</td>\n",
       "      <td>107000.000000</td>\n",
       "      <td>...</td>\n",
       "      <td>NaN</td>\n",
       "      <td>NaN</td>\n",
       "      <td>NaN</td>\n",
       "      <td>NaN</td>\n",
       "      <td>1017.000000</td>\n",
       "      <td>1011.000000</td>\n",
       "      <td>NaN</td>\n",
       "      <td>669.000000</td>\n",
       "      <td>4983.000000</td>\n",
       "      <td>NaN</td>\n",
       "    </tr>\n",
       "  </tbody>\n",
       "</table>\n",
       "<p>11 rows × 25 columns</p>\n",
       "</div>"
      ],
      "text/plain": [
       "        SATISFACTION         CHURN AVG_CASH_BAL           AGE AGE_RNG  GENDER  \\\n",
       "count   65535.000000  65535.000000        65535  65535.000000   65535   65535   \n",
       "unique           NaN           NaN            4           NaN       8       2   \n",
       "top              NaN           NaN           1K           NaN   40-49  Female   \n",
       "freq             NaN           NaN        44836           NaN   13817   37005   \n",
       "mean        3.377173      0.502953          NaN     46.174273     NaN     NaN   \n",
       "std         0.966522      0.499995          NaN     17.309281     NaN     NaN   \n",
       "min         1.000000      0.000000          NaN     15.000000     NaN     NaN   \n",
       "25%         3.000000      0.000000          NaN     33.000000     NaN     NaN   \n",
       "50%         4.000000      1.000000          NaN     45.000000     NaN     NaN   \n",
       "75%         4.000000      1.000000          NaN     58.000000     NaN     NaN   \n",
       "max         5.000000      1.000000          NaN     85.000000     NaN     NaN   \n",
       "\n",
       "        NUM_PRODUCTS   CUST_ACQ_YR  NUM_UNIQ_PRODUCTS   EQUITIES_BAL   ...     \\\n",
       "count   65535.000000  65535.000000       65535.000000   65535.000000   ...      \n",
       "unique           NaN           NaN                NaN            NaN   ...      \n",
       "top              NaN           NaN                NaN            NaN   ...      \n",
       "freq             NaN           NaN                NaN            NaN   ...      \n",
       "mean        1.277256   2007.215656          20.058122    9333.897917   ...      \n",
       "std         0.548670      2.981600          14.413566    8769.488145   ...      \n",
       "min         0.000000   2003.000000           0.000000    1000.000000   ...      \n",
       "25%         1.000000   2004.000000           9.000000    4000.000000   ...      \n",
       "50%         1.000000   2007.000000          17.000000    7000.000000   ...      \n",
       "75%         2.000000   2010.000000          29.000000   10000.000000   ...      \n",
       "max         4.000000   2012.000000         100.000000  107000.000000   ...      \n",
       "\n",
       "       CUST_TYPE  HOME_BRANCH_CTY  HOME_BRANCH_ST  SALESPERSON_ID  \\\n",
       "count      65535            65535           65535           65535   \n",
       "unique         3              283              53              23   \n",
       "top     Personal          Chicago              TX             ID6   \n",
       "freq       53247             4566            9147            4777   \n",
       "mean         NaN              NaN             NaN             NaN   \n",
       "std          NaN              NaN             NaN             NaN   \n",
       "min          NaN              NaN             NaN             NaN   \n",
       "25%          NaN              NaN             NaN             NaN   \n",
       "50%          NaN              NaN             NaN             NaN   \n",
       "75%          NaN              NaN             NaN             NaN   \n",
       "max          NaN              NaN             NaN             NaN   \n",
       "\n",
       "        NUM_LATE_PYMNTS NUM_CARD_APPLS BANKRUPTCY_LAST_7YRS  \\\n",
       "count      65535.000000   65535.000000                65535   \n",
       "unique              NaN            NaN                    2   \n",
       "top                 NaN            NaN                   No   \n",
       "freq                NaN            NaN                63928   \n",
       "mean          15.626535      16.537758                  NaN   \n",
       "std           39.511740      40.052286                  NaN   \n",
       "min            0.000000       0.000000                  NaN   \n",
       "25%            0.000000       0.000000                  NaN   \n",
       "50%            0.000000       0.000000                  NaN   \n",
       "75%           14.000000      16.000000                  NaN   \n",
       "max         1017.000000    1011.000000                  NaN   \n",
       "\n",
       "       AVG_MORTGAGE_PYMNT  CREDIT_SCORE  DEFAULT  \n",
       "count        63748.000000  65535.000000    65535  \n",
       "unique                NaN           NaN        2  \n",
       "top                   NaN           NaN       no  \n",
       "freq                  NaN           NaN    43027  \n",
       "mean           103.973803    727.195544      NaN  \n",
       "std             71.874038    593.558184      NaN  \n",
       "min              8.000000     31.000000      NaN  \n",
       "25%             53.000000    305.000000      NaN  \n",
       "50%             85.000000    571.000000      NaN  \n",
       "75%            132.000000    954.000000      NaN  \n",
       "max            669.000000   4983.000000      NaN  \n",
       "\n",
       "[11 rows x 25 columns]"
      ]
     },
     "execution_count": 4,
     "metadata": {},
     "output_type": "execute_result"
    }
   ],
   "source": [
    "df1.describe(include='all')"
   ]
  },
  {
   "cell_type": "markdown",
   "metadata": {
    "deletable": true,
    "editable": true
   },
   "source": [
    "## <font color=blue size=5>Drop household_id, age, num_uniq_products</font>"
   ]
  },
  {
   "cell_type": "code",
   "execution_count": 5,
   "metadata": {
    "collapsed": false,
    "deletable": true,
    "editable": true
   },
   "outputs": [
    {
     "data": {
      "text/plain": [
       "0        12\n",
       "1         0\n",
       "2        62\n",
       "3        41\n",
       "4        12\n",
       "5        27\n",
       "6        49\n",
       "7        29\n",
       "8         0\n",
       "9        22\n",
       "10       18\n",
       "11       27\n",
       "12        2\n",
       "13       32\n",
       "14        7\n",
       "15        1\n",
       "16       10\n",
       "17       32\n",
       "18       37\n",
       "19       42\n",
       "20       28\n",
       "21       16\n",
       "22       26\n",
       "23       41\n",
       "24       14\n",
       "25       41\n",
       "26       16\n",
       "27       40\n",
       "28       29\n",
       "29       21\n",
       "         ..\n",
       "65505    13\n",
       "65506     0\n",
       "65507     0\n",
       "65508    51\n",
       "65509    54\n",
       "65510     6\n",
       "65511    34\n",
       "65512     0\n",
       "65513    59\n",
       "65514     0\n",
       "65515     8\n",
       "65516    20\n",
       "65517    14\n",
       "65518    31\n",
       "65519    30\n",
       "65520    15\n",
       "65521     9\n",
       "65522    16\n",
       "65523    12\n",
       "65524    20\n",
       "65525    25\n",
       "65526    21\n",
       "65527    16\n",
       "65528    29\n",
       "65529    10\n",
       "65530    10\n",
       "65531     7\n",
       "65532     5\n",
       "65533     0\n",
       "65534     9\n",
       "Name: NUM_UNIQ_PRODUCTS, Length: 65535, dtype: int64"
      ]
     },
     "execution_count": 5,
     "metadata": {},
     "output_type": "execute_result"
    }
   ],
   "source": [
    "df1.pop('HOUSEHOLD_ID')\n",
    "df1.pop('AGE')\n",
    "df1.pop('NUM_UNIQ_PRODUCTS')"
   ]
  },
  {
   "cell_type": "markdown",
   "metadata": {
    "deletable": true,
    "editable": true
   },
   "source": [
    "## <font color=blue size=5>Explore the data with visualizations</font>"
   ]
  },
  {
   "cell_type": "code",
   "execution_count": 6,
   "metadata": {
    "collapsed": false,
    "deletable": true,
    "editable": true
   },
   "outputs": [
    {
     "name": "stdout",
     "output_type": "stream",
     "text": [
      "Pixiedust database opened successfully\n"
     ]
    },
    {
     "data": {
      "text/html": [
       "\n",
       "        <div style=\"margin:10px\">\n",
       "            <a href=\"https://github.com/ibm-watson-data-lab/pixiedust\" target=\"_new\">\n",
       "                <img src=\"https://github.com/ibm-watson-data-lab/pixiedust/raw/master/docs/_static/pd_icon32.png\" style=\"float:left;margin-right:10px\"/>\n",
       "            </a>\n",
       "            <span>Pixiedust version 1.1.11</span>\n",
       "        </div>\n",
       "        "
      ],
      "text/plain": [
       "<IPython.core.display.HTML object>"
      ]
     },
     "metadata": {},
     "output_type": "display_data"
    }
   ],
   "source": [
    "import pixiedust"
   ]
  },
  {
   "cell_type": "code",
   "execution_count": 1,
   "metadata": {
    "collapsed": false,
    "deletable": true,
    "editable": true,
    "pixiedust": {
     "displayParams": {
      "aggregation": "AVG",
      "chartsize": "100",
      "clusterby": "AGE_RNG",
      "handlerId": "barChart",
      "keyFields": "DEFAULT",
      "timeseries": "false",
      "title": "DEFUALTS By AGE RANGES"
     }
    }
   },
   "outputs": [
    {
     "ename": "NameError",
     "evalue": "name 'display' is not defined",
     "output_type": "error",
     "traceback": [
      "\u001b[0;31m\u001b[0m",
      "\u001b[0;31mNameError\u001b[0mTraceback (most recent call last)",
      "\u001b[0;32m<ipython-input-1-be6127950d8c>\u001b[0m in \u001b[0;36m<module>\u001b[0;34m()\u001b[0m\n\u001b[0;32m----> 1\u001b[0;31m \u001b[0mdisplay\u001b[0m\u001b[0;34m(\u001b[0m\u001b[0mdf1\u001b[0m\u001b[0;34m)\u001b[0m\u001b[0;34m\u001b[0m\u001b[0m\n\u001b[0m",
      "\u001b[0;31mNameError\u001b[0m: name 'display' is not defined"
     ]
    }
   ],
   "source": [
    "display(df1)"
   ]
  },
  {
   "cell_type": "markdown",
   "metadata": {
    "deletable": true,
    "editable": true
   },
   "source": [
    "## <font color=blue size=5>Replace missing data with mean and scale with MinMaxScaler</font>"
   ]
  },
  {
   "cell_type": "code",
   "execution_count": 8,
   "metadata": {
    "collapsed": false,
    "deletable": true,
    "editable": true
   },
   "outputs": [
    {
     "name": "stdout",
     "output_type": "stream",
     "text": [
      "('MEAN AVG_MORTGAGE_PYMNT = ', 103.9738030997051)\n"
     ]
    }
   ],
   "source": [
    "MEAN_MORTGAGE_PYMNT = df1[\"AVG_MORTGAGE_PYMNT\"].astype(\"float\").mean(axis = 0)\n",
    "print(\"MEAN AVG_MORTGAGE_PYMNT = \" , MEAN_MORTGAGE_PYMNT)"
   ]
  },
  {
   "cell_type": "code",
   "execution_count": 9,
   "metadata": {
    "collapsed": false,
    "deletable": true,
    "editable": true
   },
   "outputs": [],
   "source": [
    "df1.replace(\"?\", np.nan, inplace = True)\n",
    "df1[\"AVG_MORTGAGE_PYMNT\"].replace(np.nan, MEAN_MORTGAGE_PYMNT, inplace = True)"
   ]
  },
  {
   "cell_type": "code",
   "execution_count": 7,
   "metadata": {
    "collapsed": false,
    "deletable": true,
    "editable": true
   },
   "outputs": [],
   "source": [
    "##from sklearn.preprocessing import MinMaxScaler"
   ]
  },
  {
   "cell_type": "code",
   "execution_count": 8,
   "metadata": {
    "collapsed": false,
    "deletable": true,
    "editable": true
   },
   "outputs": [],
   "source": [
    "##scaler=MinMaxScaler()"
   ]
  },
  {
   "cell_type": "code",
   "execution_count": 9,
   "metadata": {
    "collapsed": false,
    "deletable": true,
    "editable": true
   },
   "outputs": [],
   "source": [
    "##df1[['SATISFACTION','NUM_PRODUCTS','CUST_ACQ_YR','EQUITIES_BAL','NUM_ADDR_CHNGS','CLNTS_IN_HSHLD','AVG_CARD_BAL','NUM_LATE_PYMNTS','NUM_CARD_APPLS','AVG_MORTGAGE_PYMNT','CREDIT_SCORE']] = scaler.fit_transform(df1[['SATISFACTION','NUM_PRODUCTS','CUST_ACQ_YR','EQUITIES_BAL','NUM_ADDR_CHNGS','CLNTS_IN_HSHLD','AVG_CARD_BAL','NUM_LATE_PYMNTS','NUM_CARD_APPLS','AVG_MORTGAGE_PYMNT','CREDIT_SCORE']])"
   ]
  },
  {
   "cell_type": "markdown",
   "metadata": {
    "deletable": true,
    "editable": true
   },
   "source": [
    "## <font color=blue size=5> Encode categorical data</font>"
   ]
  },
  {
   "cell_type": "code",
   "execution_count": 10,
   "metadata": {
    "collapsed": true,
    "deletable": true,
    "editable": true
   },
   "outputs": [],
   "source": [
    "for feature in df1.columns: # Loop through all columns in the dataframe\n",
    "    if df1[feature].dtype == 'object': # Only apply for columns with categorical strings\n",
    "        df1[feature] = pd.Categorical(df1[feature]).codes # Replace strings with an integer"
   ]
  },
  {
   "cell_type": "code",
   "execution_count": 11,
   "metadata": {
    "collapsed": false,
    "deletable": true,
    "editable": true
   },
   "outputs": [
    {
     "name": "stdout",
     "output_type": "stream",
     "text": [
      "<class 'pandas.core.frame.DataFrame'>\n",
      "RangeIndex: 65535 entries, 0 to 65534\n",
      "Data columns (total 22 columns):\n",
      "SATISFACTION            65535 non-null float64\n",
      "CHURN                   65535 non-null int64\n",
      "AVG_CASH_BAL            65535 non-null int8\n",
      "AGE_RNG                 65535 non-null int8\n",
      "GENDER                  65535 non-null int8\n",
      "NUM_PRODUCTS            65535 non-null int64\n",
      "CUST_ACQ_YR             65535 non-null int64\n",
      "EQUITIES_BAL            65535 non-null int64\n",
      "INIT_MORTG_AMT          65535 non-null int8\n",
      "NUM_ADDR_CHNGS          65535 non-null int64\n",
      "CLNTS_IN_HSHLD          65535 non-null int64\n",
      "AVG_CARD_BAL            65535 non-null int64\n",
      "CUST_TYPE               65535 non-null int8\n",
      "HOME_BRANCH_CTY         65535 non-null int16\n",
      "HOME_BRANCH_ST          65535 non-null int8\n",
      "SALESPERSON_ID          65535 non-null int8\n",
      "NUM_LATE_PYMNTS         65535 non-null int64\n",
      "NUM_CARD_APPLS          65535 non-null int64\n",
      "BANKRUPTCY_LAST_7YRS    65535 non-null int8\n",
      "AVG_MORTGAGE_PYMNT      65535 non-null float64\n",
      "CREDIT_SCORE            65535 non-null int64\n",
      "DEFAULT                 65535 non-null int8\n",
      "dtypes: float64(2), int16(1), int64(10), int8(9)\n",
      "memory usage: 6.7 MB\n"
     ]
    }
   ],
   "source": [
    "df1.info()"
   ]
  },
  {
   "cell_type": "code",
   "execution_count": 12,
   "metadata": {
    "collapsed": false,
    "deletable": true,
    "editable": true
   },
   "outputs": [
    {
     "data": {
      "text/html": [
       "<div>\n",
       "<style scoped>\n",
       "    .dataframe tbody tr th:only-of-type {\n",
       "        vertical-align: middle;\n",
       "    }\n",
       "\n",
       "    .dataframe tbody tr th {\n",
       "        vertical-align: top;\n",
       "    }\n",
       "\n",
       "    .dataframe thead th {\n",
       "        text-align: right;\n",
       "    }\n",
       "</style>\n",
       "<table border=\"1\" class=\"dataframe\">\n",
       "  <thead>\n",
       "    <tr style=\"text-align: right;\">\n",
       "      <th></th>\n",
       "      <th>SATISFACTION</th>\n",
       "      <th>CHURN</th>\n",
       "      <th>AVG_CASH_BAL</th>\n",
       "      <th>AGE_RNG</th>\n",
       "      <th>GENDER</th>\n",
       "      <th>NUM_PRODUCTS</th>\n",
       "      <th>CUST_ACQ_YR</th>\n",
       "      <th>EQUITIES_BAL</th>\n",
       "      <th>INIT_MORTG_AMT</th>\n",
       "      <th>NUM_ADDR_CHNGS</th>\n",
       "      <th>...</th>\n",
       "      <th>CUST_TYPE</th>\n",
       "      <th>HOME_BRANCH_CTY</th>\n",
       "      <th>HOME_BRANCH_ST</th>\n",
       "      <th>SALESPERSON_ID</th>\n",
       "      <th>NUM_LATE_PYMNTS</th>\n",
       "      <th>NUM_CARD_APPLS</th>\n",
       "      <th>BANKRUPTCY_LAST_7YRS</th>\n",
       "      <th>AVG_MORTGAGE_PYMNT</th>\n",
       "      <th>CREDIT_SCORE</th>\n",
       "      <th>DEFAULT</th>\n",
       "    </tr>\n",
       "  </thead>\n",
       "  <tbody>\n",
       "    <tr>\n",
       "      <th>0</th>\n",
       "      <td>4.0</td>\n",
       "      <td>1</td>\n",
       "      <td>1</td>\n",
       "      <td>4</td>\n",
       "      <td>1</td>\n",
       "      <td>1</td>\n",
       "      <td>2010</td>\n",
       "      <td>9000</td>\n",
       "      <td>0</td>\n",
       "      <td>0</td>\n",
       "      <td>...</td>\n",
       "      <td>1</td>\n",
       "      <td>119</td>\n",
       "      <td>45</td>\n",
       "      <td>21</td>\n",
       "      <td>0</td>\n",
       "      <td>0</td>\n",
       "      <td>0</td>\n",
       "      <td>174.0</td>\n",
       "      <td>1117</td>\n",
       "      <td>0</td>\n",
       "    </tr>\n",
       "    <tr>\n",
       "      <th>1</th>\n",
       "      <td>5.0</td>\n",
       "      <td>0</td>\n",
       "      <td>2</td>\n",
       "      <td>1</td>\n",
       "      <td>0</td>\n",
       "      <td>2</td>\n",
       "      <td>2008</td>\n",
       "      <td>1000</td>\n",
       "      <td>2</td>\n",
       "      <td>0</td>\n",
       "      <td>...</td>\n",
       "      <td>1</td>\n",
       "      <td>119</td>\n",
       "      <td>45</td>\n",
       "      <td>21</td>\n",
       "      <td>0</td>\n",
       "      <td>0</td>\n",
       "      <td>0</td>\n",
       "      <td>166.0</td>\n",
       "      <td>1117</td>\n",
       "      <td>0</td>\n",
       "    </tr>\n",
       "    <tr>\n",
       "      <th>2</th>\n",
       "      <td>2.0</td>\n",
       "      <td>0</td>\n",
       "      <td>1</td>\n",
       "      <td>7</td>\n",
       "      <td>1</td>\n",
       "      <td>1</td>\n",
       "      <td>2003</td>\n",
       "      <td>7000</td>\n",
       "      <td>2</td>\n",
       "      <td>0</td>\n",
       "      <td>...</td>\n",
       "      <td>1</td>\n",
       "      <td>119</td>\n",
       "      <td>45</td>\n",
       "      <td>5</td>\n",
       "      <td>0</td>\n",
       "      <td>21</td>\n",
       "      <td>0</td>\n",
       "      <td>198.0</td>\n",
       "      <td>1117</td>\n",
       "      <td>1</td>\n",
       "    </tr>\n",
       "    <tr>\n",
       "      <th>3</th>\n",
       "      <td>3.0</td>\n",
       "      <td>1</td>\n",
       "      <td>1</td>\n",
       "      <td>7</td>\n",
       "      <td>0</td>\n",
       "      <td>2</td>\n",
       "      <td>2005</td>\n",
       "      <td>1000</td>\n",
       "      <td>2</td>\n",
       "      <td>1</td>\n",
       "      <td>...</td>\n",
       "      <td>1</td>\n",
       "      <td>119</td>\n",
       "      <td>45</td>\n",
       "      <td>2</td>\n",
       "      <td>0</td>\n",
       "      <td>0</td>\n",
       "      <td>0</td>\n",
       "      <td>167.0</td>\n",
       "      <td>1117</td>\n",
       "      <td>0</td>\n",
       "    </tr>\n",
       "    <tr>\n",
       "      <th>4</th>\n",
       "      <td>2.0</td>\n",
       "      <td>0</td>\n",
       "      <td>1</td>\n",
       "      <td>2</td>\n",
       "      <td>0</td>\n",
       "      <td>2</td>\n",
       "      <td>2010</td>\n",
       "      <td>6000</td>\n",
       "      <td>2</td>\n",
       "      <td>2</td>\n",
       "      <td>...</td>\n",
       "      <td>1</td>\n",
       "      <td>119</td>\n",
       "      <td>45</td>\n",
       "      <td>5</td>\n",
       "      <td>26</td>\n",
       "      <td>2</td>\n",
       "      <td>0</td>\n",
       "      <td>168.0</td>\n",
       "      <td>1117</td>\n",
       "      <td>0</td>\n",
       "    </tr>\n",
       "  </tbody>\n",
       "</table>\n",
       "<p>5 rows × 22 columns</p>\n",
       "</div>"
      ],
      "text/plain": [
       "   SATISFACTION  CHURN  AVG_CASH_BAL  AGE_RNG  GENDER  NUM_PRODUCTS  \\\n",
       "0           4.0      1             1        4       1             1   \n",
       "1           5.0      0             2        1       0             2   \n",
       "2           2.0      0             1        7       1             1   \n",
       "3           3.0      1             1        7       0             2   \n",
       "4           2.0      0             1        2       0             2   \n",
       "\n",
       "   CUST_ACQ_YR  EQUITIES_BAL  INIT_MORTG_AMT  NUM_ADDR_CHNGS   ...     \\\n",
       "0         2010          9000               0               0   ...      \n",
       "1         2008          1000               2               0   ...      \n",
       "2         2003          7000               2               0   ...      \n",
       "3         2005          1000               2               1   ...      \n",
       "4         2010          6000               2               2   ...      \n",
       "\n",
       "   CUST_TYPE  HOME_BRANCH_CTY  HOME_BRANCH_ST  SALESPERSON_ID  \\\n",
       "0          1              119              45              21   \n",
       "1          1              119              45              21   \n",
       "2          1              119              45               5   \n",
       "3          1              119              45               2   \n",
       "4          1              119              45               5   \n",
       "\n",
       "   NUM_LATE_PYMNTS  NUM_CARD_APPLS  BANKRUPTCY_LAST_7YRS  AVG_MORTGAGE_PYMNT  \\\n",
       "0                0               0                     0               174.0   \n",
       "1                0               0                     0               166.0   \n",
       "2                0              21                     0               198.0   \n",
       "3                0               0                     0               167.0   \n",
       "4               26               2                     0               168.0   \n",
       "\n",
       "   CREDIT_SCORE  DEFAULT  \n",
       "0          1117        0  \n",
       "1          1117        0  \n",
       "2          1117        1  \n",
       "3          1117        0  \n",
       "4          1117        0  \n",
       "\n",
       "[5 rows x 22 columns]"
      ]
     },
     "execution_count": 12,
     "metadata": {},
     "output_type": "execute_result"
    }
   ],
   "source": [
    "df1.head()"
   ]
  },
  {
   "cell_type": "markdown",
   "metadata": {
    "deletable": true,
    "editable": true
   },
   "source": [
    "## <font color=blue size=5>Randomly split data into train and test.  Set seed for reproducibility</font>"
   ]
  },
  {
   "cell_type": "code",
   "execution_count": 13,
   "metadata": {
    "collapsed": false,
    "deletable": true,
    "editable": true
   },
   "outputs": [
    {
     "name": "stdout",
     "output_type": "stream",
     "text": [
      "('Training Sample', SATISFACTION            45874\n",
      "CHURN                   45874\n",
      "AVG_CASH_BAL            45874\n",
      "AGE_RNG                 45874\n",
      "GENDER                  45874\n",
      "NUM_PRODUCTS            45874\n",
      "CUST_ACQ_YR             45874\n",
      "EQUITIES_BAL            45874\n",
      "INIT_MORTG_AMT          45874\n",
      "NUM_ADDR_CHNGS          45874\n",
      "CLNTS_IN_HSHLD          45874\n",
      "AVG_CARD_BAL            45874\n",
      "CUST_TYPE               45874\n",
      "HOME_BRANCH_CTY         45874\n",
      "HOME_BRANCH_ST          45874\n",
      "SALESPERSON_ID          45874\n",
      "NUM_LATE_PYMNTS         45874\n",
      "NUM_CARD_APPLS          45874\n",
      "BANKRUPTCY_LAST_7YRS    45874\n",
      "AVG_MORTGAGE_PYMNT      45874\n",
      "CREDIT_SCORE            45874\n",
      "DEFAULT                 45874\n",
      "dtype: int64)\n",
      "('Test Sample', SATISFACTION            19661\n",
      "CHURN                   19661\n",
      "AVG_CASH_BAL            19661\n",
      "AGE_RNG                 19661\n",
      "GENDER                  19661\n",
      "NUM_PRODUCTS            19661\n",
      "CUST_ACQ_YR             19661\n",
      "EQUITIES_BAL            19661\n",
      "INIT_MORTG_AMT          19661\n",
      "NUM_ADDR_CHNGS          19661\n",
      "CLNTS_IN_HSHLD          19661\n",
      "AVG_CARD_BAL            19661\n",
      "CUST_TYPE               19661\n",
      "HOME_BRANCH_CTY         19661\n",
      "HOME_BRANCH_ST          19661\n",
      "SALESPERSON_ID          19661\n",
      "NUM_LATE_PYMNTS         19661\n",
      "NUM_CARD_APPLS          19661\n",
      "BANKRUPTCY_LAST_7YRS    19661\n",
      "AVG_MORTGAGE_PYMNT      19661\n",
      "CREDIT_SCORE            19661\n",
      "DEFAULT                 19661\n",
      "dtype: int64)\n"
     ]
    }
   ],
   "source": [
    "from sklearn.model_selection import train_test_split\n",
    "df_train, df_test = train_test_split(df1, test_size=0.3)\n",
    "print (\"Training Sample\" , df_train.count())\n",
    "print (\"Test Sample\", df_test.count())"
   ]
  },
  {
   "cell_type": "markdown",
   "metadata": {
    "deletable": true,
    "editable": true
   },
   "source": [
    "## <font color=blue size=5>Split out target</font> "
   ]
  },
  {
   "cell_type": "code",
   "execution_count": 14,
   "metadata": {
    "collapsed": true,
    "deletable": true,
    "editable": true
   },
   "outputs": [],
   "source": [
    "y_train = df_train.pop('DEFAULT')\n",
    "y_test =  df_test.pop('DEFAULT')"
   ]
  },
  {
   "cell_type": "code",
   "execution_count": 15,
   "metadata": {
    "collapsed": false,
    "deletable": true,
    "editable": true
   },
   "outputs": [
    {
     "name": "stdout",
     "output_type": "stream",
     "text": [
      "<class 'pandas.core.frame.DataFrame'>\n",
      "Int64Index: 45874 entries, 50587 to 38581\n",
      "Data columns (total 21 columns):\n",
      "SATISFACTION            45874 non-null float64\n",
      "CHURN                   45874 non-null int64\n",
      "AVG_CASH_BAL            45874 non-null int8\n",
      "AGE_RNG                 45874 non-null int8\n",
      "GENDER                  45874 non-null int8\n",
      "NUM_PRODUCTS            45874 non-null int64\n",
      "CUST_ACQ_YR             45874 non-null int64\n",
      "EQUITIES_BAL            45874 non-null int64\n",
      "INIT_MORTG_AMT          45874 non-null int8\n",
      "NUM_ADDR_CHNGS          45874 non-null int64\n",
      "CLNTS_IN_HSHLD          45874 non-null int64\n",
      "AVG_CARD_BAL            45874 non-null int64\n",
      "CUST_TYPE               45874 non-null int8\n",
      "HOME_BRANCH_CTY         45874 non-null int16\n",
      "HOME_BRANCH_ST          45874 non-null int8\n",
      "SALESPERSON_ID          45874 non-null int8\n",
      "NUM_LATE_PYMNTS         45874 non-null int64\n",
      "NUM_CARD_APPLS          45874 non-null int64\n",
      "BANKRUPTCY_LAST_7YRS    45874 non-null int8\n",
      "AVG_MORTGAGE_PYMNT      45874 non-null float64\n",
      "CREDIT_SCORE            45874 non-null int64\n",
      "dtypes: float64(2), int16(1), int64(10), int8(8)\n",
      "memory usage: 5.0 MB\n"
     ]
    }
   ],
   "source": [
    "df_train.info()"
   ]
  },
  {
   "cell_type": "code",
   "execution_count": 16,
   "metadata": {
    "collapsed": true,
    "deletable": true,
    "editable": true
   },
   "outputs": [],
   "source": [
    "import xgboost as xgb"
   ]
  },
  {
   "cell_type": "markdown",
   "metadata": {
    "deletable": true,
    "editable": true
   },
   "source": [
    "## <font color=blue size=5>Create our DMatrix to make XGBoost more efficient</font>"
   ]
  },
  {
   "cell_type": "code",
   "execution_count": 17,
   "metadata": {
    "collapsed": true,
    "deletable": true,
    "editable": true
   },
   "outputs": [],
   "source": [
    "xgdmat = xgb.DMatrix( df_train, y_train)"
   ]
  },
  {
   "cell_type": "code",
   "execution_count": 18,
   "metadata": {
    "collapsed": true,
    "deletable": true,
    "editable": true
   },
   "outputs": [],
   "source": [
    "xgb_params = {'eta': 0.1, 'seed':0, 'subsample': 0.8, 'colsample_bytree': 0.8, \n",
    "             'objective': 'binary:logistic', 'max_depth':3, 'min_child_weight':1} "
   ]
  },
  {
   "cell_type": "code",
   "execution_count": 19,
   "metadata": {
    "collapsed": true,
    "deletable": true,
    "editable": true
   },
   "outputs": [],
   "source": [
    "cv_xgb = xgb.cv(params = xgb_params, dtrain = xgdmat, num_boost_round = 3000, nfold = 5,\n",
    "                metrics = ['error'], # Make sure you enter metrics inside a list or you may encounter issues!\n",
    "                early_stopping_rounds = 100) # Look for early stopping that minimizes error"
   ]
  },
  {
   "cell_type": "code",
   "execution_count": 20,
   "metadata": {
    "collapsed": false,
    "deletable": true,
    "editable": true
   },
   "outputs": [
    {
     "data": {
      "text/html": [
       "<div>\n",
       "<style scoped>\n",
       "    .dataframe tbody tr th:only-of-type {\n",
       "        vertical-align: middle;\n",
       "    }\n",
       "\n",
       "    .dataframe tbody tr th {\n",
       "        vertical-align: top;\n",
       "    }\n",
       "\n",
       "    .dataframe thead th {\n",
       "        text-align: right;\n",
       "    }\n",
       "</style>\n",
       "<table border=\"1\" class=\"dataframe\">\n",
       "  <thead>\n",
       "    <tr style=\"text-align: right;\">\n",
       "      <th></th>\n",
       "      <th>test-error-mean</th>\n",
       "      <th>test-error-std</th>\n",
       "      <th>train-error-mean</th>\n",
       "      <th>train-error-std</th>\n",
       "    </tr>\n",
       "  </thead>\n",
       "  <tbody>\n",
       "    <tr>\n",
       "      <th>0</th>\n",
       "      <td>0.004142</td>\n",
       "      <td>0.002427</td>\n",
       "      <td>0.003967</td>\n",
       "      <td>0.001996</td>\n",
       "    </tr>\n",
       "    <tr>\n",
       "      <th>1</th>\n",
       "      <td>0.002965</td>\n",
       "      <td>0.000374</td>\n",
       "      <td>0.002965</td>\n",
       "      <td>0.000093</td>\n",
       "    </tr>\n",
       "    <tr>\n",
       "      <th>2</th>\n",
       "      <td>0.002856</td>\n",
       "      <td>0.000410</td>\n",
       "      <td>0.002823</td>\n",
       "      <td>0.000309</td>\n",
       "    </tr>\n",
       "    <tr>\n",
       "      <th>3</th>\n",
       "      <td>0.003379</td>\n",
       "      <td>0.000948</td>\n",
       "      <td>0.003297</td>\n",
       "      <td>0.000660</td>\n",
       "    </tr>\n",
       "    <tr>\n",
       "      <th>4</th>\n",
       "      <td>0.002812</td>\n",
       "      <td>0.000485</td>\n",
       "      <td>0.002905</td>\n",
       "      <td>0.000078</td>\n",
       "    </tr>\n",
       "  </tbody>\n",
       "</table>\n",
       "</div>"
      ],
      "text/plain": [
       "   test-error-mean  test-error-std  train-error-mean  train-error-std\n",
       "0         0.004142        0.002427          0.003967         0.001996\n",
       "1         0.002965        0.000374          0.002965         0.000093\n",
       "2         0.002856        0.000410          0.002823         0.000309\n",
       "3         0.003379        0.000948          0.003297         0.000660\n",
       "4         0.002812        0.000485          0.002905         0.000078"
      ]
     },
     "execution_count": 20,
     "metadata": {},
     "output_type": "execute_result"
    }
   ],
   "source": [
    "cv_xgb.head()"
   ]
  },
  {
   "cell_type": "code",
   "execution_count": 21,
   "metadata": {
    "collapsed": false,
    "deletable": true,
    "editable": true
   },
   "outputs": [
    {
     "data": {
      "text/html": [
       "<div>\n",
       "<style scoped>\n",
       "    .dataframe tbody tr th:only-of-type {\n",
       "        vertical-align: middle;\n",
       "    }\n",
       "\n",
       "    .dataframe tbody tr th {\n",
       "        vertical-align: top;\n",
       "    }\n",
       "\n",
       "    .dataframe thead th {\n",
       "        text-align: right;\n",
       "    }\n",
       "</style>\n",
       "<table border=\"1\" class=\"dataframe\">\n",
       "  <thead>\n",
       "    <tr style=\"text-align: right;\">\n",
       "      <th></th>\n",
       "      <th>test-error-mean</th>\n",
       "      <th>test-error-std</th>\n",
       "      <th>train-error-mean</th>\n",
       "      <th>train-error-std</th>\n",
       "    </tr>\n",
       "  </thead>\n",
       "  <tbody>\n",
       "    <tr>\n",
       "      <th>51</th>\n",
       "      <td>0.0</td>\n",
       "      <td>0.0</td>\n",
       "      <td>0.0</td>\n",
       "      <td>0.0</td>\n",
       "    </tr>\n",
       "  </tbody>\n",
       "</table>\n",
       "</div>"
      ],
      "text/plain": [
       "    test-error-mean  test-error-std  train-error-mean  train-error-std\n",
       "51              0.0             0.0               0.0              0.0"
      ]
     },
     "execution_count": 21,
     "metadata": {},
     "output_type": "execute_result"
    }
   ],
   "source": [
    "cv_xgb.tail(1)"
   ]
  },
  {
   "cell_type": "code",
   "execution_count": 22,
   "metadata": {
    "collapsed": true,
    "deletable": true,
    "editable": true
   },
   "outputs": [],
   "source": [
    "xgb_params = {'eta': 0.1, 'seed':0, 'subsample': 0.8, 'colsample_bytree': 0.8, \n",
    "             'objective': 'binary:logistic', 'max_depth':3, 'min_child_weight':1} \n",
    "\n",
    "final_xgb = xgb.train(xgb_params, xgdmat, num_boost_round = 400)"
   ]
  },
  {
   "cell_type": "code",
   "execution_count": 23,
   "metadata": {
    "collapsed": true,
    "deletable": true,
    "editable": true
   },
   "outputs": [],
   "source": [
    "%matplotlib inline\n",
    "import seaborn as sns\n",
    "sns.set(font_scale = 1.5)"
   ]
  },
  {
   "cell_type": "code",
   "execution_count": 24,
   "metadata": {
    "collapsed": false,
    "deletable": true,
    "editable": true
   },
   "outputs": [
    {
     "data": {
      "text/plain": [
       "<matplotlib.axes._subplots.AxesSubplot at 0x7f4d3017de50>"
      ]
     },
     "execution_count": 24,
     "metadata": {},
     "output_type": "execute_result"
    },
    {
     "name": "stderr",
     "output_type": "stream",
     "text": [
      "/opt/conda/lib/python2.7/site-packages/matplotlib/font_manager.py:1297: UserWarning: findfont: Font family [u'sans-serif'] not found. Falling back to DejaVu Sans\n",
      "  (prop.get_family(), self.defaultFamily[fontext]))\n"
     ]
    },
    {
     "data": {
      "image/png": "[encoded data removed]",
      "text/plain": [
       "<matplotlib.figure.Figure at 0x7f4d3076cc10>"
      ]
     },
     "metadata": {},
     "output_type": "display_data"
    }
   ],
   "source": [
    "xgb.plot_importance(final_xgb)"
   ]
  },
  {
   "cell_type": "code",
   "execution_count": 25,
   "metadata": {
    "collapsed": false,
    "deletable": true,
    "editable": true
   },
   "outputs": [
    {
     "data": {
      "text/plain": [
       "{'AGE_RNG': 1,\n",
       " 'AVG_CARD_BAL': 2,\n",
       " 'AVG_CASH_BAL': 4,\n",
       " 'AVG_MORTGAGE_PYMNT': 219,\n",
       " 'BANKRUPTCY_LAST_7YRS': 41,\n",
       " 'CHURN': 9,\n",
       " 'CREDIT_SCORE': 44,\n",
       " 'CUST_ACQ_YR': 7,\n",
       " 'HOME_BRANCH_CTY': 15,\n",
       " 'HOME_BRANCH_ST': 16,\n",
       " 'INIT_MORTG_AMT': 8,\n",
       " 'NUM_CARD_APPLS': 303,\n",
       " 'NUM_LATE_PYMNTS': 73,\n",
       " 'SALESPERSON_ID': 13,\n",
       " 'SATISFACTION': 29}"
      ]
     },
     "execution_count": 25,
     "metadata": {},
     "output_type": "execute_result"
    }
   ],
   "source": [
    "importances = final_xgb.get_fscore()\n",
    "importances"
   ]
  },
  {
   "cell_type": "code",
   "execution_count": 26,
   "metadata": {
    "collapsed": false,
    "deletable": true,
    "editable": true
   },
   "outputs": [
    {
     "data": {
      "text/plain": [
       "<matplotlib.axes._subplots.AxesSubplot at 0x7f4d28102810>"
      ]
     },
     "execution_count": 26,
     "metadata": {},
     "output_type": "execute_result"
    },
    {
     "data": {
      "image/png": "[encoded data removed]",
      "text/plain": [
       "<matplotlib.figure.Figure at 0x7f4d300a8650>"
      ]
     },
     "metadata": {},
     "output_type": "display_data"
    }
   ],
   "source": [
    "importance_frame = pd.DataFrame({'Importance': list(importances.values()), 'Feature': list(importances.keys())})\n",
    "importance_frame.sort_values(by = 'Importance', inplace = True)\n",
    "importance_frame.plot(kind = 'barh', x = 'Feature', figsize = (8,8), color = 'orange')"
   ]
  },
  {
   "cell_type": "markdown",
   "metadata": {
    "deletable": true,
    "editable": true
   },
   "source": [
    "## <font color=blue size=5>Evaluate Accuracy - Generate predictions on test data</font>"
   ]
  },
  {
   "cell_type": "code",
   "execution_count": 27,
   "metadata": {
    "collapsed": true,
    "deletable": true,
    "editable": true
   },
   "outputs": [],
   "source": [
    "testdmat = xgb.DMatrix(df_test)"
   ]
  },
  {
   "cell_type": "code",
   "execution_count": 28,
   "metadata": {
    "collapsed": false,
    "deletable": true,
    "editable": true
   },
   "outputs": [
    {
     "data": {
      "text/plain": [
       "array([1.6756685e-05, 1.5889318e-05, 9.9982905e-01, ..., 9.9993253e-01,\n",
       "       1.7562666e-05, 9.9975556e-01], dtype=float32)"
      ]
     },
     "execution_count": 28,
     "metadata": {},
     "output_type": "execute_result"
    }
   ],
   "source": [
    "from sklearn.metrics import accuracy_score\n",
    "y_pred = final_xgb.predict(testdmat) # Predict using our testdmat\n",
    "y_pred"
   ]
  },
  {
   "cell_type": "markdown",
   "metadata": {
    "deletable": true,
    "editable": true
   },
   "source": [
    "## <font color=blue size=5>Convert to probabilities</font>"
   ]
  },
  {
   "cell_type": "code",
   "execution_count": 29,
   "metadata": {
    "collapsed": false,
    "deletable": true,
    "editable": true
   },
   "outputs": [
    {
     "data": {
      "text/plain": [
       "array([0., 0., 1., ..., 1., 0., 1.], dtype=float32)"
      ]
     },
     "execution_count": 29,
     "metadata": {},
     "output_type": "execute_result"
    }
   ],
   "source": [
    "y_pred[y_pred > 0.5] = 1\n",
    "y_pred[y_pred <= 0.5] = 0\n",
    "y_pred"
   ]
  },
  {
   "cell_type": "markdown",
   "metadata": {
    "deletable": true,
    "editable": true
   },
   "source": [
    "## <font color=blue size=5>Calculate Accuracy Score</font>"
   ]
  },
  {
   "cell_type": "code",
   "execution_count": 30,
   "metadata": {
    "collapsed": false,
    "deletable": true,
    "editable": true
   },
   "outputs": [
    {
     "data": {
      "text/plain": [
       "(1.0, 0.0)"
      ]
     },
     "execution_count": 30,
     "metadata": {},
     "output_type": "execute_result"
    }
   ],
   "source": [
    "accuracy_score(y_pred, y_test), 1-accuracy_score(y_pred, y_test)"
   ]
  },
  {
   "cell_type": "markdown",
   "metadata": {
    "deletable": true,
    "editable": true
   },
   "source": [
    "## <font color=blue size=5>Save model</font>"
   ]
  },
  {
   "cell_type": "code",
   "execution_count": 31,
   "metadata": {
    "collapsed": false,
    "deletable": true,
    "editable": true
   },
   "outputs": [
    {
     "name": "stderr",
     "output_type": "stream",
     "text": [
      "Using TensorFlow backend.\n"
     ]
    }
   ],
   "source": [
    "from dsx_ml.ml import save"
   ]
  },
  {
   "cell_type": "code",
   "execution_count": 32,
   "metadata": {
    "collapsed": false,
    "deletable": true,
    "editable": true
   },
   "outputs": [
    {
     "data": {
      "text/plain": [
       "{'path': '/user-home/1003/DSX_Projects/FSS_DEMO_NF/models/XGBDefault/1',\n",
       " 'scoring_endpoint': 'https://dsxl-api/v3/project/score/Python27/xgboost-0.7/FSS_DEMO_NF/XGBDefault/1'}"
      ]
     },
     "execution_count": 32,
     "metadata": {},
     "output_type": "execute_result"
    }
   ],
   "source": [
    "save(model = final_xgb,\n",
    "     name = 'XGBDefault',\n",
    "     x_test = df_test,\n",
    "     y_test = pd.DataFrame(y_test),\n",
    "     algorithm_type = 'Classification',\n",
    "     params = {})"
   ]
  },
  {
   "cell_type": "markdown",
   "metadata": {
    "deletable": true,
    "editable": true
   },
   "source": [
    "## <font color=blue size=5>Make Predictions on New Data</font>"
   ]
  },
  {
   "cell_type": "code",
   "execution_count": 34,
   "metadata": {
    "collapsed": true,
    "deletable": true,
    "editable": true
   },
   "outputs": [],
   "source": [
    "cust01 = {\n",
    "\"SATISFACTION\" : .25,\n",
    "\"CHURN\" : 1,\n",
    "\"AVG_CASH_BAL\" : 1,\n",
    "\"AGE_RNG\" : 6,\n",
    "\"GENDER\" : 0,\n",
    "\"NUM_PRODUCTS\" : .25,\n",
    "\"CUST_ACQ_YR\" : .888889,\n",
    "\"EQUITIES_BAL\" : .084906,\n",
    "\"INIT_MORTG_AMT\" : 2,\n",
    "\"NUM_ADDR_CHNGS\" : .00295,\n",
    "\"CLNTS_IN_HSHLD\" : 0,\n",
    "\"AVG_CARD_BAL\" : .33520,\n",
    "\"CUST_TYPE\" : 2,\n",
    "\"HOME_BRANCH_CTY\" : 231,\n",
    "\"HOME_BRANCH_ST\" : 4,\n",
    "\"SALESPERSON_ID\" : 9,\n",
    "\"NUM_LATE_PYMNTS\" : .001967,\n",
    "\"NUM_CARD_APPLS\" : .048467,\n",
    "\"BANKRUPTCY_LAST_7YRS\" : 0,\n",
    "\"AVG_MORTGAGE_PYMNT\" : .072617,\n",
    "\"CREDIT_SCORE\" : .033926\n",
    "}\n"
   ]
  },
  {
   "cell_type": "code",
   "execution_count": 33,
   "metadata": {
    "collapsed": true,
    "deletable": true,
    "editable": true
   },
   "outputs": [],
   "source": [
    "cust01 = {\n",
    "\"SATISFACTION\" : 4,\n",
    "\"CHURN\" : 1,\n",
    "\"AVG_CASH_BAL\" : 1,\n",
    "\"AGE_RNG\" : 6,\n",
    "\"GENDER\" : 0,\n",
    "\"NUM_PRODUCTS\" : 3,\n",
    "\"CUST_ACQ_YR\" : 2010,\n",
    "\"EQUITIES_BAL\" : 9000,\n",
    "\"INIT_MORTG_AMT\" : 2,\n",
    "\"NUM_ADDR_CHNGS\" : 2,\n",
    "\"CLNTS_IN_HSHLD\" : 2,\n",
    "\"AVG_CARD_BAL\" : 1500,\n",
    "\"CUST_TYPE\" : 2,\n",
    "\"HOME_BRANCH_CTY\" : 231,\n",
    "\"HOME_BRANCH_ST\" : 4,\n",
    "\"SALESPERSON_ID\" : 9,\n",
    "\"NUM_LATE_PYMNTS\" : 10,\n",
    "\"NUM_CARD_APPLS\" : 5,\n",
    "\"BANKRUPTCY_LAST_7YRS\" : 0,\n",
    "\"AVG_MORTGAGE_PYMNT\" : 350,\n",
    "\"CREDIT_SCORE\" : 700\n",
    "}"
   ]
  },
  {
   "cell_type": "code",
   "execution_count": 34,
   "metadata": {
    "collapsed": false,
    "deletable": true,
    "editable": true
   },
   "outputs": [],
   "source": [
    "df2=pd.DataFrame([cust01])"
   ]
  },
  {
   "cell_type": "code",
   "execution_count": 35,
   "metadata": {
    "collapsed": false,
    "deletable": true,
    "editable": true
   },
   "outputs": [
    {
     "data": {
      "text/html": [
       "<div>\n",
       "<style scoped>\n",
       "    .dataframe tbody tr th:only-of-type {\n",
       "        vertical-align: middle;\n",
       "    }\n",
       "\n",
       "    .dataframe tbody tr th {\n",
       "        vertical-align: top;\n",
       "    }\n",
       "\n",
       "    .dataframe thead th {\n",
       "        text-align: right;\n",
       "    }\n",
       "</style>\n",
       "<table border=\"1\" class=\"dataframe\">\n",
       "  <thead>\n",
       "    <tr style=\"text-align: right;\">\n",
       "      <th></th>\n",
       "      <th>SATISFACTION</th>\n",
       "      <th>CHURN</th>\n",
       "      <th>AVG_CASH_BAL</th>\n",
       "      <th>AGE_RNG</th>\n",
       "      <th>GENDER</th>\n",
       "      <th>NUM_PRODUCTS</th>\n",
       "      <th>CUST_ACQ_YR</th>\n",
       "      <th>EQUITIES_BAL</th>\n",
       "      <th>INIT_MORTG_AMT</th>\n",
       "      <th>NUM_ADDR_CHNGS</th>\n",
       "      <th>...</th>\n",
       "      <th>AVG_CARD_BAL</th>\n",
       "      <th>CUST_TYPE</th>\n",
       "      <th>HOME_BRANCH_CTY</th>\n",
       "      <th>HOME_BRANCH_ST</th>\n",
       "      <th>SALESPERSON_ID</th>\n",
       "      <th>NUM_LATE_PYMNTS</th>\n",
       "      <th>NUM_CARD_APPLS</th>\n",
       "      <th>BANKRUPTCY_LAST_7YRS</th>\n",
       "      <th>AVG_MORTGAGE_PYMNT</th>\n",
       "      <th>CREDIT_SCORE</th>\n",
       "    </tr>\n",
       "  </thead>\n",
       "  <tbody>\n",
       "    <tr>\n",
       "      <th>0</th>\n",
       "      <td>4</td>\n",
       "      <td>1</td>\n",
       "      <td>1</td>\n",
       "      <td>6</td>\n",
       "      <td>0</td>\n",
       "      <td>3</td>\n",
       "      <td>2010</td>\n",
       "      <td>9000</td>\n",
       "      <td>2</td>\n",
       "      <td>2</td>\n",
       "      <td>...</td>\n",
       "      <td>1500</td>\n",
       "      <td>2</td>\n",
       "      <td>231</td>\n",
       "      <td>4</td>\n",
       "      <td>9</td>\n",
       "      <td>10</td>\n",
       "      <td>5</td>\n",
       "      <td>0</td>\n",
       "      <td>350</td>\n",
       "      <td>700</td>\n",
       "    </tr>\n",
       "  </tbody>\n",
       "</table>\n",
       "<p>1 rows × 21 columns</p>\n",
       "</div>"
      ],
      "text/plain": [
       "   SATISFACTION  CHURN  AVG_CASH_BAL  AGE_RNG  GENDER  NUM_PRODUCTS  \\\n",
       "0             4      1             1        6       0             3   \n",
       "\n",
       "   CUST_ACQ_YR  EQUITIES_BAL  INIT_MORTG_AMT  NUM_ADDR_CHNGS      ...       \\\n",
       "0         2010          9000               2               2      ...        \n",
       "\n",
       "   AVG_CARD_BAL  CUST_TYPE  HOME_BRANCH_CTY  HOME_BRANCH_ST  SALESPERSON_ID  \\\n",
       "0          1500          2              231               4               9   \n",
       "\n",
       "   NUM_LATE_PYMNTS  NUM_CARD_APPLS  BANKRUPTCY_LAST_7YRS  AVG_MORTGAGE_PYMNT  \\\n",
       "0               10               5                     0                 350   \n",
       "\n",
       "   CREDIT_SCORE  \n",
       "0           700  \n",
       "\n",
       "[1 rows x 21 columns]"
      ]
     },
     "execution_count": 35,
     "metadata": {},
     "output_type": "execute_result"
    }
   ],
   "source": [
    "df3=df2[['SATISFACTION','CHURN','AVG_CASH_BAL','AGE_RNG','GENDER','NUM_PRODUCTS','CUST_ACQ_YR','EQUITIES_BAL','INIT_MORTG_AMT','NUM_ADDR_CHNGS','CLNTS_IN_HSHLD','AVG_CARD_BAL','CUST_TYPE','HOME_BRANCH_CTY','HOME_BRANCH_ST','SALESPERSON_ID','NUM_LATE_PYMNTS','NUM_CARD_APPLS','BANKRUPTCY_LAST_7YRS','AVG_MORTGAGE_PYMNT','CREDIT_SCORE']]\n",
    "df3"
   ]
  },
  {
   "cell_type": "code",
   "execution_count": 36,
   "metadata": {
    "collapsed": true,
    "deletable": true,
    "editable": true
   },
   "outputs": [],
   "source": [
    "new_data = xgb.DMatrix(df3)"
   ]
  },
  {
   "cell_type": "markdown",
   "metadata": {
    "deletable": true,
    "editable": true
   },
   "source": [
    "## <font color=blue size=5> Show results</font>"
   ]
  },
  {
   "cell_type": "code",
   "execution_count": 37,
   "metadata": {
    "collapsed": false,
    "deletable": true,
    "editable": true
   },
   "outputs": [
    {
     "name": "stdout",
     "output_type": "stream",
     "text": [
      "Cust01 is predicted to Make Payments with probability = 3.2000207e-05\n"
     ]
    }
   ],
   "source": [
    "cust01_churn = final_xgb.predict(new_data)\n",
    "\n",
    "if cust01_churn[0] > .50:\n",
    "    outcome = \"Default\"\n",
    "else: \n",
    "    outcome = \"Make Payments\"\n",
    "\n",
    "output_str = (u'Cust01 is predicted to ' + outcome + ' with probability = ' + str(cust01_churn[0]))\n",
    "\n",
    "print(output_str)"
   ]
  },
  {
   "cell_type": "code",
   "execution_count": null,
   "metadata": {
    "collapsed": true,
    "deletable": true,
    "editable": true
   },
   "outputs": [],
   "source": []
  }
 ],
 "metadata": {
  "kernelspec": {
   "display_name": "Python2.7 with DSX Spark 2.0.2",
   "language": "python",
   "name": "python2"
  },
  "language_info": {
   "codemirror_mode": {
    "name": "ipython",
    "version": 2
   },
   "file_extension": ".py",
   "mimetype": "text/x-python",
   "name": "python",
   "nbconvert_exporter": "python",
   "pygments_lexer": "ipython2",
   "version": "2.7.13"
  }
 },
 "nbformat": 4,
 "nbformat_minor": 2
}
